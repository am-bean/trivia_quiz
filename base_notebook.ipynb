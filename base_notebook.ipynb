{
 "cells": [
  {
   "cell_type": "code",
   "execution_count": 9,
   "id": "081bae03-1430-4476-a5ff-50cf0903a5cf",
   "metadata": {},
   "outputs": [],
   "source": [
    "import pandas as pd\n",
    "import numpy as np\n",
    "from pathlib import Path"
   ]
  },
  {
   "cell_type": "code",
   "execution_count": 34,
   "id": "41381817-3cb4-4249-abcf-b3107562db40",
   "metadata": {},
   "outputs": [],
   "source": [
    "class Quiz():\n",
    "    \n",
    "    def __init__(self):\n",
    "        self.players = []\n",
    "        self.player_names = [player.name.strip().lower() for player in self.players]\n",
    "        self.questions = []\n",
    "        self.correct_score = 10\n",
    "        self.incorrect_score = 0\n",
    "        self.teams = []\n",
    "    \n",
    "    def create_player(self):\n",
    "        name = input('Name: ')\n",
    "        if self.teams:\n",
    "            team = input('Team: ')\n",
    "            player = Player(name, team)\n",
    "        else:\n",
    "            player = Player(name)\n",
    "        self.players.append(player)\n",
    "        self.player_names = [player.name.strip().lower() for player in self.players]\n",
    "    \n",
    "    def remove_player(self, player):\n",
    "        self.players.remove(player)\n",
    "        self.player_names = [player.name.strip().lower() for player in self.players]\n",
    "        \n",
    "    def identify_player(self):\n",
    "        identified = False\n",
    "        while not identified:\n",
    "            raw_player = input('Who buzzed in?')\n",
    "            clean_player = raw_player.strip().lower()\n",
    "            if clean_player in self.player_names:\n",
    "                index = self.player_names.index(clean_player)\n",
    "                identified = True\n",
    "                return identified, self.players[index]\n",
    "            elif clean_player.isnumeric():\n",
    "                if int(clean_player) < len(self.players):\n",
    "                    identified = True\n",
    "                    return identified, self.players[int(clean_player)]\n",
    "            elif clean_player in ['skip', 's'] :\n",
    "                return identified, None\n",
    "            else:\n",
    "                print(\"Player not found. Please enter another name or press 's' to skip the question.\")\n",
    "    \n",
    "    def load_questions(self, questions):\n",
    "        self.questions = [Question(row['prompt'],row['answer'],row['category']) for i,row in questions.iterrows()]            \n",
    "    \n",
    "    def ask_question(self, question):\n",
    "        correct = False\n",
    "        print(question.prompt)\n",
    "        print()\n",
    "        getting_player = True\n",
    "        while not correct:\n",
    "            while getting_player:\n",
    "                identified, player = self.identify_player()\n",
    "                if not identified:\n",
    "                    return\n",
    "                else:\n",
    "                    getting_player = False\n",
    "                        \n",
    "            ans = input('What is your answer?')\n",
    "            if ans.lower() == question.answer.lower():\n",
    "                correct = True\n",
    "                print(f'{ans.title()} is correct! You score {self.correct_score} points!')\n",
    "                player.score_points(self.correct_score)\n",
    "                return\n",
    "            else: \n",
    "                player.score_points(self.incorrect_score)\n",
    "                cont = input('That is incorrect. Would anyone else like to answer? (y/n)')\n",
    "                if cont == 'n':\n",
    "                    print(f'The correct answer was {question.answer}.')\n",
    "                    return"
   ]
  },
  {
   "cell_type": "code",
   "execution_count": 2,
   "id": "2cc44cef-f965-4f65-9404-0f9122f601b7",
   "metadata": {},
   "outputs": [],
   "source": [
    "class Player():\n",
    "    \n",
    "    def __init__(self, name, team = None):\n",
    "        self.name = name\n",
    "        self.team = team\n",
    "        self.score = 0\n",
    "        \n",
    "    def score_points(self, points):\n",
    "        self.score += points"
   ]
  },
  {
   "cell_type": "code",
   "execution_count": 3,
   "id": "01dd1b94-9d71-46ff-b6ad-57a2edab7539",
   "metadata": {},
   "outputs": [],
   "source": [
    "class Question():\n",
    "    \n",
    "    def __init__(self, prompt, answer, category):\n",
    "        self.prompt = prompt\n",
    "        self.answer = answer\n",
    "        self.category = category"
   ]
  },
  {
   "cell_type": "code",
   "execution_count": 23,
   "id": "045a68cc-b3d1-4803-b4f3-c4af4e7690a9",
   "metadata": {},
   "outputs": [],
   "source": [
    "file = Path.cwd() / 'questions.xlsx'\n",
    "questions = pd.read_excel(file, header = 0, usecols = 'A:C')"
   ]
  },
  {
   "cell_type": "code",
   "execution_count": 33,
   "id": "302a7118-4b0d-48d8-904b-ad3a0aa8e2fb",
   "metadata": {},
   "outputs": [
    {
     "name": "stdin",
     "output_type": "stream",
     "text": [
      "Name:  Andrew\n"
     ]
    },
    {
     "name": "stdout",
     "output_type": "stream",
     "text": [
      "‘[IT] COMMITTED THE GROSSEST OF SINS IN ENGLISH EYES. IT ABJURED THE PICTURESQUE IN FAVOUR OF THE SUBLIME. IT ABHORRED PRETTINESS.’ THESE WORDS OF CRITIC JONATHAN MEADES REFER TO WHICH ARCHITECTURAL MOVEMENT OF THE MID TWENTIETH CENTURY? NOTABLE EXAMPLES IN THE U.K. INCLUDE THE BARBICAN CENTRE AND THE BIRMINGHAM NEW STREET STATION SIGNAL BOX.\n"
     ]
    },
    {
     "name": "stdin",
     "output_type": "stream",
     "text": [
      "Who buzzed in? Andrew\n",
      "What is your answer? brutalism\n"
     ]
    },
    {
     "name": "stdout",
     "output_type": "stream",
     "text": [
      "Brutalism is correct! You score 10 points!\n"
     ]
    }
   ],
   "source": [
    "q = Quiz()\n",
    "q.create_player()\n",
    "q.load_questions(questions)\n",
    "q.ask_question(q.questions[0])"
   ]
  }
 ],
 "metadata": {
  "kernelspec": {
   "display_name": "Python 3 (ipykernel)",
   "language": "python",
   "name": "python3"
  },
  "language_info": {
   "codemirror_mode": {
    "name": "ipython",
    "version": 3
   },
   "file_extension": ".py",
   "mimetype": "text/x-python",
   "name": "python",
   "nbconvert_exporter": "python",
   "pygments_lexer": "ipython3",
   "version": "3.8.8"
  }
 },
 "nbformat": 4,
 "nbformat_minor": 5
}
